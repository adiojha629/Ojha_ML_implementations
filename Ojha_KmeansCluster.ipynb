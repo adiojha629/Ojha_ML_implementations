{
 "cells": [
  {
   "cell_type": "code",
   "execution_count": 76,
   "metadata": {},
   "outputs": [],
   "source": [
    "#lets implement a kmeans cluster algorithm for 3 clusters\n",
    "#our data is a list of tuples:\n",
    "dataset = [(0,0),(1,1),(2,2),(6,6),(7,7),(15,15),(16,16),(17,17),(18,18)]"
   ]
  },
  {
   "cell_type": "code",
   "execution_count": 77,
   "metadata": {},
   "outputs": [
    {
     "data": {
      "text/plain": [
       "<matplotlib.collections.PathCollection at 0x1bb7198a108>"
      ]
     },
     "execution_count": 77,
     "metadata": {},
     "output_type": "execute_result"
    },
    {
     "data": {
      "image/png": "[encoded data removed]",
      "text/plain": [
       "<Figure size 432x288 with 1 Axes>"
      ]
     },
     "metadata": {
      "needs_background": "light"
     },
     "output_type": "display_data"
    }
   ],
   "source": [
    "#lets plot this data\n",
    "import matplotlib.pyplot as plt\n",
    "x_points = [point[0] for point in dataset]\n",
    "y_points = [point[1] for point in dataset]\n",
    "plt.scatter(x_points,y_points)"
   ]
  },
  {
   "cell_type": "code",
   "execution_count": 78,
   "metadata": {},
   "outputs": [
    {
     "name": "stdout",
     "output_type": "stream",
     "text": [
      "(0, 0)\n"
     ]
    }
   ],
   "source": [
    "#now we define our first centroid:\n",
    "c1 = dataset[0]\n",
    "print(c1)"
   ]
  },
  {
   "cell_type": "code",
   "execution_count": 79,
   "metadata": {},
   "outputs": [
    {
     "data": {
      "text/plain": [
       "1.4142135623730951"
      ]
     },
     "execution_count": 79,
     "metadata": {},
     "output_type": "execute_result"
    }
   ],
   "source": [
    "from scipy.spatial import distance\n",
    "#distance.euclidean gets us the distance between two points\n",
    "#to make the function name shorter we'll use lambda\n",
    "dist = lambda p1,p2: distance.euclidean(p1,p2)\n",
    "dist(dataset[0],dataset[1]) #a debugging line"
   ]
  },
  {
   "cell_type": "code",
   "execution_count": 80,
   "metadata": {},
   "outputs": [
    {
     "name": "stdout",
     "output_type": "stream",
     "text": [
      "[0.0, 1.4142135623730951, 2.8284271247461903, 8.48528137423857, 9.899494936611665, 21.213203435596427, 22.627416997969522, 24.041630560342615, 25.45584412271571]\n"
     ]
    }
   ],
   "source": [
    "distance_list = []\n",
    "for point in dataset:\n",
    "    distance_list.append(dist(c1,point))\n",
    "print(distance_list)"
   ]
  },
  {
   "cell_type": "code",
   "execution_count": 81,
   "metadata": {},
   "outputs": [
    {
     "name": "stdout",
     "output_type": "stream",
     "text": [
      "(18, 18)\n"
     ]
    }
   ],
   "source": [
    "#centroid 2 is defined as the point farthest from centroid \n",
    "import numpy as np\n",
    "c2 = dataset[np.argmax(distance_list)]\n",
    "print(c2)"
   ]
  },
  {
   "cell_type": "code",
   "execution_count": 82,
   "metadata": {},
   "outputs": [
    {
     "name": "stdout",
     "output_type": "stream",
     "text": [
      "[(1, 1), (2, 2), (6, 6), (7, 7), (15, 15), (16, 16), (17, 17), (18, 18)]\n"
     ]
    }
   ],
   "source": [
    "#remove 1st data point for next distance comparison\n",
    "data = dataset[1:]\n",
    "print(data)"
   ]
  },
  {
   "cell_type": "code",
   "execution_count": 83,
   "metadata": {},
   "outputs": [],
   "source": [
    "distance_list = []\n",
    "for point in data:\n",
    "    distance_list.append(dist(c2,point))\n",
    "c3 = data[np.argmax(distance_list)]"
   ]
  },
  {
   "cell_type": "code",
   "execution_count": 84,
   "metadata": {},
   "outputs": [
    {
     "name": "stdout",
     "output_type": "stream",
     "text": [
      "{(0, 0): [], (18, 18): [], (1, 1): []}\n"
     ]
    }
   ],
   "source": [
    "centroid_list =[c1,c2,c3]\n",
    "centroid_dict = {}\n",
    "for centroid in centroid_list:\n",
    "    centroid_dict[centroid] = []\n",
    "print(centroid_dict)"
   ]
  },
  {
   "cell_type": "code",
   "execution_count": 85,
   "metadata": {},
   "outputs": [
    {
     "name": "stdout",
     "output_type": "stream",
     "text": [
      "{(0, 0): [(0, 0)], (18, 18): [(15, 15), (16, 16), (17, 17), (18, 18)], (1, 1): [(1, 1), (2, 2), (6, 6), (7, 7)]}\n"
     ]
    }
   ],
   "source": [
    "#same_clusters = False\n",
    "#while(!same_clusters): #add once loop is working\n",
    "for point in dataset:\n",
    "    dist_list = []\n",
    "    for c in centroid_dict.keys():\n",
    "        dist_list.append(dist(c,point))\n",
    "    centroid_dict[centroid_list[np.argmin(dist_list)]].append(point)\n",
    "    #the argmin gets an index corresponding to the centroid, \n",
    "    #the centroid list gets the tuple corresponding to centroid\n",
    "    #then the dictionary allows us to add the point to the cluster it is apart of\n",
    "print(centroid_dict)"
   ]
  },
  {
   "cell_type": "code",
   "execution_count": 86,
   "metadata": {},
   "outputs": [],
   "source": [
    "#now we calculate the new centroids using the values in the dictionary\n",
    "#first we define a function to calculate the average of x points and average of y points\n",
    "###\n",
    "#function points_average\n",
    "#inputs: 'points' a list of tuples, each tuple a x,y coordinate\n",
    "#output: returns a tuple x,y where x = avg(all x points); y = avg(all y points)\n",
    "###\n",
    "def points_average(points):\n",
    "    #we assume that this is a list of tuples\n",
    "    x_points = [point[0] for point in points]\n",
    "    y_points = [point[1] for point in points]\n",
    "    x = sum(x_points)/len(x_points)\n",
    "    y = sum(y_points)/len(y_points)\n",
    "    return (x,y)"
   ]
  },
  {
   "cell_type": "code",
   "execution_count": 87,
   "metadata": {},
   "outputs": [
    {
     "name": "stdout",
     "output_type": "stream",
     "text": [
      "[(0.0, 0.0), (16.5, 16.5), (4.0, 4.0)]\n"
     ]
    }
   ],
   "source": [
    "new_centroids = []\n",
    "for value in centroid_dict.values():\n",
    "    new_centroids.append(points_average(value))\n",
    "print(new_centroids)"
   ]
  },
  {
   "cell_type": "code",
   "execution_count": 101,
   "metadata": {},
   "outputs": [
    {
     "name": "stdout",
     "output_type": "stream",
     "text": [
      "training done\n"
     ]
    }
   ],
   "source": [
    "if(new_centroids != centroid_list):\n",
    "    centroid_list = new_centroids.copy()\n",
    "    centroid_dict = {}\n",
    "    for centroid in centroid_list:\n",
    "        centroid_dict[centroid] = print(centroid_dict)\n",
    "else:\n",
    "    print(\"training done\")"
   ]
  },
  {
   "cell_type": "code",
   "execution_count": 91,
   "metadata": {},
   "outputs": [
    {
     "name": "stdout",
     "output_type": "stream",
     "text": [
      "[(0.0, 0.0), (16.5, 16.5), (4.0, 4.0)]\n"
     ]
    }
   ],
   "source": [
    "while(new_centroids != centroid_list):\n",
    "    centroid_list = new_centroids.copy()\n",
    "    centroid_dict = {}\n",
    "    for centroid in centroid_list:\n",
    "        centroid_dict[centroid] = []\n",
    "    for point in dataset:\n",
    "        dist_list = []\n",
    "        for c in centroid_dict.keys():\n",
    "            dist_list.append(dist(c,point))\n",
    "        centroid_dict[centroid_list[np.argmin(dist_list)]].append(point)\n",
    "    new_centroids = []\n",
    "    for value in centroid_dict.values():\n",
    "        new_centroids.append(points_average(value))\n",
    "print(centroid_list)"
   ]
  },
  {
   "cell_type": "code",
   "execution_count": 93,
   "metadata": {},
   "outputs": [
    {
     "name": "stdout",
     "output_type": "stream",
     "text": [
      "{(0.0, 0.0): [(0, 0), (1, 1), (2, 2)], (16.5, 16.5): [(15, 15), (16, 16), (17, 17), (18, 18)], (4.0, 4.0): [(6, 6), (7, 7)]}\n"
     ]
    }
   ],
   "source": [
    "for point in dataset:\n",
    "        dist_list = []\n",
    "        for c in centroid_dict.keys():\n",
    "            dist_list.append(dist(c,point))\n",
    "        centroid_dict[centroid_list[np.argmin(dist_list)]].append(point)\n",
    "print(centroid_dict)"
   ]
  },
  {
   "cell_type": "code",
   "execution_count": 96,
   "metadata": {},
   "outputs": [
    {
     "data": {
      "image/png": "[encoded data removed]",
      "text/plain": [
       "<Figure size 432x288 with 1 Axes>"
      ]
     },
     "metadata": {
      "needs_background": "light"
     },
     "output_type": "display_data"
    }
   ],
   "source": [
    "counter = 0\n",
    "for value in centroid_dict.values():\n",
    "    x_points = [point[0] for point in value]\n",
    "    y_points = [point[1] for point in value]\n",
    "    plt.scatter(x_points,y_points)"
   ]
  },
  {
   "cell_type": "code",
   "execution_count": 98,
   "metadata": {},
   "outputs": [
    {
     "ename": "ValueError",
     "evalue": "attempt to get argmin of an empty sequence",
     "output_type": "error",
     "traceback": [
      "\u001b[1;31m---------------------------------------------------------------------------\u001b[0m",
      "\u001b[1;31mValueError\u001b[0m                                Traceback (most recent call last)",
      "\u001b[1;32m<ipython-input-98-ef2e886bd742>\u001b[0m in \u001b[0;36m<module>\u001b[1;34m\u001b[0m\n\u001b[0;32m     13\u001b[0m         \u001b[1;32mfor\u001b[0m \u001b[0mc\u001b[0m \u001b[1;32min\u001b[0m \u001b[0mcentroid_dict\u001b[0m\u001b[1;33m.\u001b[0m\u001b[0mkeys\u001b[0m\u001b[1;33m(\u001b[0m\u001b[1;33m)\u001b[0m\u001b[1;33m:\u001b[0m\u001b[1;33m\u001b[0m\u001b[1;33m\u001b[0m\u001b[0m\n\u001b[0;32m     14\u001b[0m             \u001b[0mdist_list\u001b[0m\u001b[1;33m.\u001b[0m\u001b[0mappend\u001b[0m\u001b[1;33m(\u001b[0m\u001b[0mdist\u001b[0m\u001b[1;33m(\u001b[0m\u001b[0mc\u001b[0m\u001b[1;33m,\u001b[0m\u001b[0mpoint\u001b[0m\u001b[1;33m)\u001b[0m\u001b[1;33m)\u001b[0m\u001b[1;33m\u001b[0m\u001b[1;33m\u001b[0m\u001b[0m\n\u001b[1;32m---> 15\u001b[1;33m         \u001b[0mcentroid_dict\u001b[0m\u001b[1;33m[\u001b[0m\u001b[0mcentroid_list\u001b[0m\u001b[1;33m[\u001b[0m\u001b[0mnp\u001b[0m\u001b[1;33m.\u001b[0m\u001b[0margmin\u001b[0m\u001b[1;33m(\u001b[0m\u001b[0mdist_list\u001b[0m\u001b[1;33m)\u001b[0m\u001b[1;33m]\u001b[0m\u001b[1;33m]\u001b[0m\u001b[1;33m.\u001b[0m\u001b[0mappend\u001b[0m\u001b[1;33m(\u001b[0m\u001b[0mpoint\u001b[0m\u001b[1;33m)\u001b[0m\u001b[1;33m\u001b[0m\u001b[1;33m\u001b[0m\u001b[0m\n\u001b[0m\u001b[0;32m     16\u001b[0m     \u001b[0mnew_centroids\u001b[0m \u001b[1;33m=\u001b[0m \u001b[1;33m[\u001b[0m\u001b[1;33m]\u001b[0m\u001b[1;33m\u001b[0m\u001b[1;33m\u001b[0m\u001b[0m\n\u001b[0;32m     17\u001b[0m     \u001b[1;32mfor\u001b[0m \u001b[0mvalue\u001b[0m \u001b[1;32min\u001b[0m \u001b[0mcentroid_dict\u001b[0m\u001b[1;33m.\u001b[0m\u001b[0mvalues\u001b[0m\u001b[1;33m(\u001b[0m\u001b[1;33m)\u001b[0m\u001b[1;33m:\u001b[0m\u001b[1;33m\u001b[0m\u001b[1;33m\u001b[0m\u001b[0m\n",
      "\u001b[1;32m<__array_function__ internals>\u001b[0m in \u001b[0;36margmin\u001b[1;34m(*args, **kwargs)\u001b[0m\n",
      "\u001b[1;32mC:\\ProgramData\\Anaconda3\\lib\\site-packages\\numpy\\core\\fromnumeric.py\u001b[0m in \u001b[0;36margmin\u001b[1;34m(a, axis, out)\u001b[0m\n\u001b[0;32m   1265\u001b[0m \u001b[1;33m\u001b[0m\u001b[0m\n\u001b[0;32m   1266\u001b[0m     \"\"\"\n\u001b[1;32m-> 1267\u001b[1;33m     \u001b[1;32mreturn\u001b[0m \u001b[0m_wrapfunc\u001b[0m\u001b[1;33m(\u001b[0m\u001b[0ma\u001b[0m\u001b[1;33m,\u001b[0m \u001b[1;34m'argmin'\u001b[0m\u001b[1;33m,\u001b[0m \u001b[0maxis\u001b[0m\u001b[1;33m=\u001b[0m\u001b[0maxis\u001b[0m\u001b[1;33m,\u001b[0m \u001b[0mout\u001b[0m\u001b[1;33m=\u001b[0m\u001b[0mout\u001b[0m\u001b[1;33m)\u001b[0m\u001b[1;33m\u001b[0m\u001b[1;33m\u001b[0m\u001b[0m\n\u001b[0m\u001b[0;32m   1268\u001b[0m \u001b[1;33m\u001b[0m\u001b[0m\n\u001b[0;32m   1269\u001b[0m \u001b[1;33m\u001b[0m\u001b[0m\n",
      "\u001b[1;32mC:\\ProgramData\\Anaconda3\\lib\\site-packages\\numpy\\core\\fromnumeric.py\u001b[0m in \u001b[0;36m_wrapfunc\u001b[1;34m(obj, method, *args, **kwds)\u001b[0m\n\u001b[0;32m     56\u001b[0m     \u001b[0mbound\u001b[0m \u001b[1;33m=\u001b[0m \u001b[0mgetattr\u001b[0m\u001b[1;33m(\u001b[0m\u001b[0mobj\u001b[0m\u001b[1;33m,\u001b[0m \u001b[0mmethod\u001b[0m\u001b[1;33m,\u001b[0m \u001b[1;32mNone\u001b[0m\u001b[1;33m)\u001b[0m\u001b[1;33m\u001b[0m\u001b[1;33m\u001b[0m\u001b[0m\n\u001b[0;32m     57\u001b[0m     \u001b[1;32mif\u001b[0m \u001b[0mbound\u001b[0m \u001b[1;32mis\u001b[0m \u001b[1;32mNone\u001b[0m\u001b[1;33m:\u001b[0m\u001b[1;33m\u001b[0m\u001b[1;33m\u001b[0m\u001b[0m\n\u001b[1;32m---> 58\u001b[1;33m         \u001b[1;32mreturn\u001b[0m \u001b[0m_wrapit\u001b[0m\u001b[1;33m(\u001b[0m\u001b[0mobj\u001b[0m\u001b[1;33m,\u001b[0m \u001b[0mmethod\u001b[0m\u001b[1;33m,\u001b[0m \u001b[1;33m*\u001b[0m\u001b[0margs\u001b[0m\u001b[1;33m,\u001b[0m \u001b[1;33m**\u001b[0m\u001b[0mkwds\u001b[0m\u001b[1;33m)\u001b[0m\u001b[1;33m\u001b[0m\u001b[1;33m\u001b[0m\u001b[0m\n\u001b[0m\u001b[0;32m     59\u001b[0m \u001b[1;33m\u001b[0m\u001b[0m\n\u001b[0;32m     60\u001b[0m     \u001b[1;32mtry\u001b[0m\u001b[1;33m:\u001b[0m\u001b[1;33m\u001b[0m\u001b[1;33m\u001b[0m\u001b[0m\n",
      "\u001b[1;32mC:\\ProgramData\\Anaconda3\\lib\\site-packages\\numpy\\core\\fromnumeric.py\u001b[0m in \u001b[0;36m_wrapit\u001b[1;34m(obj, method, *args, **kwds)\u001b[0m\n\u001b[0;32m     45\u001b[0m     \u001b[1;32mexcept\u001b[0m \u001b[0mAttributeError\u001b[0m\u001b[1;33m:\u001b[0m\u001b[1;33m\u001b[0m\u001b[1;33m\u001b[0m\u001b[0m\n\u001b[0;32m     46\u001b[0m         \u001b[0mwrap\u001b[0m \u001b[1;33m=\u001b[0m \u001b[1;32mNone\u001b[0m\u001b[1;33m\u001b[0m\u001b[1;33m\u001b[0m\u001b[0m\n\u001b[1;32m---> 47\u001b[1;33m     \u001b[0mresult\u001b[0m \u001b[1;33m=\u001b[0m \u001b[0mgetattr\u001b[0m\u001b[1;33m(\u001b[0m\u001b[0masarray\u001b[0m\u001b[1;33m(\u001b[0m\u001b[0mobj\u001b[0m\u001b[1;33m)\u001b[0m\u001b[1;33m,\u001b[0m \u001b[0mmethod\u001b[0m\u001b[1;33m)\u001b[0m\u001b[1;33m(\u001b[0m\u001b[1;33m*\u001b[0m\u001b[0margs\u001b[0m\u001b[1;33m,\u001b[0m \u001b[1;33m**\u001b[0m\u001b[0mkwds\u001b[0m\u001b[1;33m)\u001b[0m\u001b[1;33m\u001b[0m\u001b[1;33m\u001b[0m\u001b[0m\n\u001b[0m\u001b[0;32m     48\u001b[0m     \u001b[1;32mif\u001b[0m \u001b[0mwrap\u001b[0m\u001b[1;33m:\u001b[0m\u001b[1;33m\u001b[0m\u001b[1;33m\u001b[0m\u001b[0m\n\u001b[0;32m     49\u001b[0m         \u001b[1;32mif\u001b[0m \u001b[1;32mnot\u001b[0m \u001b[0misinstance\u001b[0m\u001b[1;33m(\u001b[0m\u001b[0mresult\u001b[0m\u001b[1;33m,\u001b[0m \u001b[0mmu\u001b[0m\u001b[1;33m.\u001b[0m\u001b[0mndarray\u001b[0m\u001b[1;33m)\u001b[0m\u001b[1;33m:\u001b[0m\u001b[1;33m\u001b[0m\u001b[1;33m\u001b[0m\u001b[0m\n",
      "\u001b[1;31mValueError\u001b[0m: attempt to get argmin of an empty sequence"
     ]
    }
   ],
   "source": [
    "centroid_list =[c1,c2,c3]\n",
    "centroid_dict = {}\n",
    "for centroid in centroid_list:\n",
    "    centroid_dict[centroid] = []\n",
    "new_centroids = []\n",
    "while(new_centroids != centroid_list):\n",
    "    centroid_list = new_centroids.copy()\n",
    "    centroid_dict = {}\n",
    "    for centroid in centroid_list:\n",
    "        centroid_dict[centroid] = []\n",
    "    for point in dataset:\n",
    "        dist_list = []\n",
    "        for c in centroid_dict.keys():\n",
    "            dist_list.append(dist(c,point))\n",
    "        centroid_dict[centroid_list[np.argmin(dist_list)]].append(point)\n",
    "    new_centroids = []\n",
    "    for value in centroid_dict.values():\n",
    "        new_centroids.append(points_average(value))\n",
    "for value in centroid_dict.values():\n",
    "    x_points = [point[0] for point in value]\n",
    "    y_points = [point[1] for point in value]\n",
    "    plt.scatter(x_points,y_points)"
   ]
  },
  {
   "cell_type": "code",
   "execution_count": null,
   "metadata": {},
   "outputs": [],
   "source": []
  }
 ],
 "metadata": {
  "kernelspec": {
   "display_name": "Python 3",
   "language": "python",
   "name": "python3"
  },
  "language_info": {
   "codemirror_mode": {
    "name": "ipython",
    "version": 3
   },
   "file_extension": ".py",
   "mimetype": "text/x-python",
   "name": "python",
   "nbconvert_exporter": "python",
   "pygments_lexer": "ipython3",
   "version": "3.7.6"
  }
 },
 "nbformat": 4,
 "nbformat_minor": 4
}
