{
 "cells": [
  {
   "cell_type": "code",
   "execution_count": 4,
   "id": "05998026",
   "metadata": {},
   "outputs": [],
   "source": [
    "import numpy as np\n",
    "import matplotlib.pyplot as plt"
   ]
  },
  {
   "cell_type": "code",
   "execution_count": 21,
   "id": "5aed2204",
   "metadata": {},
   "outputs": [],
   "source": [
    "'''\n",
    "Maximal Margin Classifier in 1-D with 2 classes:\n",
    "find 2 points, one from each class, that are the closest together- these are your support vectors\n",
    "find the mid-point between your support vectors - this is your margin\n",
    "classify new data points by seeing which side of the line the data points fall on\n",
    "'''\n",
    "def MMC(dataX, labelY):\n",
    "    '''\n",
    "    Maximal Margin Classifier (MMC) for 1 dimensional data and 2 classes\n",
    "    Params:\n",
    "        dataX: list or vector of length L, where L is the number of data points\n",
    "        dataY: list of vector of length L, where dataY[i] is the label for dataX[i].\n",
    "    Return:\n",
    "        threshold: int or double that represents the threshold for classification\n",
    "        decision_function: a function that makes the MMC's classification; i.e. decision_function(dataX) ~= dataY\n",
    "        trainAcc: training accuracy of decision_function\n",
    "    '''\n",
    "    # 1: find 2 points, one from each class, that are the closest together- these are your support vectors\n",
    "    ## find \"switching-points\"; the points where the class changes from class1 to class2\n",
    "    sorted_index = np.argsort(dataX)\n",
    "    dataX = dataX[sorted_index] # sort in ascending order\n",
    "    dataY = labelY[sorted_index] # and order the class labels accordingly\n",
    "    \n",
    "    switchpts = []\n",
    "    pt1 = dataX[0]\n",
    "    cl1 = dataY[0]\n",
    "    for pt,cl in zip(dataX,dataY):\n",
    "        if cl != cl1: # class changed\n",
    "            switchpts.append( [pt1,pt,cl1,cl,abs(pt-pt1)] ) # last element is distance between switching points\n",
    "            cl1 = cl\n",
    "        pt1=pt\n",
    "    # find switch pts where the distance is the greatest! these are our support vectors (sv)\n",
    "    [sv1, sv2, lowerclass, higherclass,_] = sorted(switchpts,key=lambda list_elem:list_elem[-1],reverse=True)[0] # get max value with index 0\n",
    "    # list_elem[-1] is the distance between switching points\n",
    "    # lowerclass is the class label for sv1\n",
    "    # find the mid-point between your support vectors - this is your margin\n",
    "    threshold = (sv1+sv2)/2\n",
    "    # classify new data points by seeing which side of the line the data points fall on\n",
    "    decision_function = lambda datax: lowerclass if datax < threshold else higherclass\n",
    "    \n",
    "    # Accuracy\n",
    "    num_correct = 0\n",
    "    for pt,cl in zip(dataX,dataY):\n",
    "        pred = decision_function(pt)\n",
    "        if pred == cl:\n",
    "            num_correct += 1\n",
    "    trainAcc = num_correct / len(dataX)\n",
    "    \n",
    "    return threshold, decision_function, trainAcc"
   ]
  },
  {
   "cell_type": "code",
   "execution_count": 36,
   "id": "b6f05d01",
   "metadata": {},
   "outputs": [
    {
     "data": {
      "image/png": "[encoded data removed]",
      "text/plain": [
       "<Figure size 432x288 with 1 Axes>"
      ]
     },
     "metadata": {
      "needs_background": "light"
     },
     "output_type": "display_data"
    }
   ],
   "source": [
    "# Data: Classification of Obese vs. Not Obese\n",
    "# generate 10 weight values between 110 and 340 lbs uniformly.\n",
    "weights = np.random.uniform(low=110, high=340, size=10)\n",
    "# weights above 220 are obsese, anythin below are not obese\n",
    "class_labels = np.array([\"Obese\" if x > 220 else \"Not Obese\" for x in weights])\n",
    "# Display weights and labels\n",
    "plt.scatter(x=weights, y = np.zeros_like(weights), c = ['r' if lbl == \"Obese\" else 'b' for lbl in class_labels])\n",
    "# plt.legend(handles=[\"Obese\", \"Not Obese\"])\n",
    "plt.show()"
   ]
  },
  {
   "cell_type": "code",
   "execution_count": 38,
   "id": "51399300",
   "metadata": {},
   "outputs": [
    {
     "name": "stdout",
     "output_type": "stream",
     "text": [
      "219.43380845387495   1.0\n"
     ]
    }
   ],
   "source": [
    "threshold, decision_function, trainAcc = MMC(weights,class_labels)\n",
    "print(threshold,\" \",trainAcc)"
   ]
  },
  {
   "cell_type": "code",
   "execution_count": 39,
   "id": "719afdb7",
   "metadata": {},
   "outputs": [
    {
     "data": {
      "text/plain": [
       "'Not Obese'"
      ]
     },
     "execution_count": 39,
     "metadata": {},
     "output_type": "execute_result"
    }
   ],
   "source": [
    "decision_function(175)"
   ]
  },
  {
   "cell_type": "code",
   "execution_count": 41,
   "id": "b5340368",
   "metadata": {},
   "outputs": [
    {
     "name": "stdout",
     "output_type": "stream",
     "text": [
      "Testing accuracy is  1.0\n"
     ]
    }
   ],
   "source": [
    "# Let's now make a test dataset of 50 data points and see how the classifier does:\n",
    "weights_test = np.random.uniform(low=110, high=340, size=50)\n",
    "class_labels_test = np.array([\"Obese\" if x > 220 else \"Not Obese\" for x in weights_test])\n",
    "\n",
    "num_correct = 0\n",
    "for pt,cl in zip(weights_test,class_labels_test):\n",
    "    pred = decision_function(pt)\n",
    "    if pred == cl:\n",
    "        num_correct += 1\n",
    "testAcc = num_correct / len(class_labels_test)\n",
    "print(\"Testing accuracy is \",testAcc)"
   ]
  },
  {
   "cell_type": "markdown",
   "id": "8468edeb",
   "metadata": {},
   "source": [
    "Since the data set followed a threshold-boundary decision rule & our training data sufficiently allowed us to discover this rule, we get 100% on training and testing accuracy. If the decision rule is not straightforward or if our training data contains outliers then the MMC will perform less."
   ]
  },
  {
   "cell_type": "code",
   "execution_count": null,
   "id": "b0565ae9",
   "metadata": {},
   "outputs": [],
   "source": []
  }
 ],
 "metadata": {
  "kernelspec": {
   "display_name": "Python 3",
   "language": "python",
   "name": "python3"
  },
  "language_info": {
   "codemirror_mode": {
    "name": "ipython",
    "version": 3
   },
   "file_extension": ".py",
   "mimetype": "text/x-python",
   "name": "python",
   "nbconvert_exporter": "python",
   "pygments_lexer": "ipython3",
   "version": "3.7.9"
  }
 },
 "nbformat": 4,
 "nbformat_minor": 5
}
